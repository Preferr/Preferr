{
 "cells": [
  {
   "cell_type": "code",
   "execution_count": 6,
   "metadata": {},
   "outputs": [
    {
     "name": "stdout",
     "output_type": "stream",
     "text": [
      "{'H': 3, 'u': 7, 'm': 6, 'p': 6, 't': 13, 'y': 5, ' ': 22, 'D': 2, 's': 5, 'a': 11, 'o': 4, 'n': 7, 'w': 1, 'l': 9, ',': 1, '\\n': 3, 'h': 5, 'd': 3, 'g': 5, 'r': 3, 'e': 7, 'f': 1, '.': 2, 'A': 1, 'k': 2, 'i': 3, \"'\": 3, 'C': 1}\n"
     ]
    }
   ],
   "source": [
    "infile = open('HumptyDumpty.txt', 'r')\n",
    "alp = {}\n",
    "for line in infile:\n",
    "    for count in line:\n",
    "        if count in alp:\n",
    "            alp[count] += 1\n",
    "        else:\n",
    "            alp[count] = 1\n",
    "print(alp)"
   ]
  },
  {
   "cell_type": "code",
   "execution_count": 7,
   "metadata": {},
   "outputs": [],
   "source": [
    "infile = open('numbers.txt', 'r')\n",
    "rfile = infile.readlines()\n",
    "infile.close()\n",
    "\n",
    "\n",
    "\n",
    "outfile = open('output.txt', 'w')\n",
    "\n",
    "total = 0\n",
    "avg = 0\n",
    "count = 0\n",
    "for n in rfile:\n",
    "    total += float(n)\n",
    "    count += 1\n",
    "\n",
    "avg = total / count\n",
    "\n",
    "outfile.write('합계 = %f'% total)\n",
    "outfile.write('\\n')\n",
    "outfile.write('평균 = %f'%avg)\n",
    "outfile.close()"
   ]
  },
  {
   "cell_type": "code",
   "execution_count": 8,
   "metadata": {},
   "outputs": [
    {
     "name": "stdout",
     "output_type": "stream",
     "text": [
      "반지름: 100 원의 면적: 628.0 원의 둘레: 31400.0\n"
     ]
    }
   ],
   "source": [
    "class Circle:\n",
    "    def __init__(self, radius):\n",
    "        self.radius = radius\n",
    "    def calcPerimeter(self):\n",
    "        self.calcperimeter = 3.14 * 2 * self.radius\n",
    "    def calcArea(self):\n",
    "        self.calcarea = 3.14 * self.radius**2\n",
    "    def __str__(self):\n",
    "        msg = \"반지름: \"+str(self.radius) +\" 원의 면적: \"+str(self.calcperimeter) +\" 원의 둘레: \"+str(self.calcarea)\n",
    "        return msg\n",
    "\n",
    "myCircle = Circle(100)\n",
    "myCircle.calcPerimeter()\n",
    "myCircle.calcArea()\n",
    "print(myCircle)"
   ]
  },
  {
   "cell_type": "code",
   "execution_count": 10,
   "metadata": {},
   "outputs": [],
   "source": [
    "from turtle import * \n",
    "\n",
    "class MyTurtle(Turtle): \n",
    "    def drawSquare(self):\n",
    "        for i in range(4):\n",
    "            self.right(90)\n",
    "            self.forward(100)\n",
    "\n",
    "my_turtle = MyTurtle()\n",
    "my_turtle.forward(100)\n",
    "my_turtle.drawSquare()"
   ]
  },
  {
   "cell_type": "code",
   "execution_count": null,
   "metadata": {},
   "outputs": [],
   "source": []
  },
  {
   "cell_type": "code",
   "execution_count": null,
   "metadata": {},
   "outputs": [],
   "source": []
  }
 ],
 "metadata": {
  "kernelspec": {
   "display_name": "Python 3",
   "language": "python",
   "name": "python3"
  },
  "language_info": {
   "codemirror_mode": {
    "name": "ipython",
    "version": 3
   },
   "file_extension": ".py",
   "mimetype": "text/x-python",
   "name": "python",
   "nbconvert_exporter": "python",
   "pygments_lexer": "ipython3",
   "version": "3.7.6"
  }
 },
 "nbformat": 4,
 "nbformat_minor": 4
}
